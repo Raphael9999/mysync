{
 "metadata": {
  "language_info": {
   "codemirror_mode": {
    "name": "ipython",
    "version": 3
   },
   "file_extension": ".py",
   "mimetype": "text/x-python",
   "name": "python",
   "nbconvert_exporter": "python",
   "pygments_lexer": "ipython3",
   "version": "3.6.8-final"
  },
  "orig_nbformat": 2,
  "kernelspec": {
   "name": "python3",
   "display_name": "Python 3.6.8 64-bit ('env')",
   "metadata": {
    "interpreter": {
     "hash": "75ed696d3391cc0456eaaeedbf04e065f47c7bebefd37231124f0955e6c1da98"
    }
   }
  }
 },
 "nbformat": 4,
 "nbformat_minor": 2,
 "cells": [
  {
   "cell_type": "code",
   "execution_count": 46,
   "metadata": {},
   "outputs": [],
   "source": [
    "file_list = [\n",
    "            # r'C:\\Users\\Raphael.Louvrier\\OneDrive - Vallourec\\Desktop\\TEST\\src\\excel.xlsx',\n",
    "            r'C:\\Users\\Raphael.Louvrier\\OneDrive - Vallourec\\Desktop\\TEST\\trg\\excel.xlsx',\n",
    "            r'C:\\Users\\Raphael.Louvrier\\OneDrive - Vallourec\\Desktop\\TEST\\trg\\excel2.xlsx'\n",
    "            #  r'C:\\Users\\Raphael.Louvrier\\OneDrive - Vallourec\\Desktop\\TEST\\word.docx',\n",
    "            #  r'C:\\Users\\Raphael.Louvrier\\OneDrive - Vallourec\\Desktop\\TEST\\textfile.txt'\n",
    "            ]\n",
    "targetdir = r'C:\\Users\\Raphael.Louvrier\\OneDrive - Vallourec\\Desktop\\TEST\\trg'\n",
    "sourcedir = r'C:\\Users\\Raphael.Louvrier\\OneDrive - Vallourec\\Desktop\\TEST\\src'\n",
    "fn = r'C:\\Users\\Raphael.Louvrier\\OneDrive - Vallourec\\Desktop\\TEST\\src\\excel.xlsx'"
   ]
  },
  {
   "cell_type": "code",
   "execution_count": 47,
   "metadata": {},
   "outputs": [],
   "source": [
    "def is_in_dir(file_name=None, folder=None):\n",
    "    if not ( isinstance(file_name, str) and isinstance(folder, str) ):\n",
    "        raise KeyError('is_in_dir require 2 strings')\n",
    "    return file_name.find(folder, 0) == 0"
   ]
  },
  {
   "cell_type": "code",
   "execution_count": 48,
   "metadata": {},
   "outputs": [
    {
     "output_type": "stream",
     "name": "stdout",
     "text": [
      "True\nFalse\n"
     ]
    }
   ],
   "source": [
    "# testing\n",
    "print(is_in_dir(fn, sourcedir))\n",
    "print(is_in_dir(fn, targetdir))"
   ]
  },
  {
   "cell_type": "code",
   "execution_count": 49,
   "metadata": {},
   "outputs": [],
   "source": [
    "# delete the file in target dir\n",
    "file_del = [fn for fn in file_list if is_in_dir(fn, targetdir)]\n",
    "# keep the files in source dir\n",
    "file_keep = [fn for fn in file_list if is_in_dir(fn, sourcedir)]\n",
    "# ensure that no matter what we keep at least one file\n",
    "if file_keep == list() and len(file_del) > 0:\n",
    "    file_keep = [file_del[0]]\n",
    "    file_del.pop(0)"
   ]
  },
  {
   "cell_type": "code",
   "execution_count": 50,
   "metadata": {},
   "outputs": [
    {
     "output_type": "stream",
     "name": "stdout",
     "text": [
      "keep: ['C:\\\\Users\\\\Raphael.Louvrier\\\\OneDrive - Vallourec\\\\Desktop\\\\TEST\\\\trg\\\\excel.xlsx']\ndel: ['C:\\\\Users\\\\Raphael.Louvrier\\\\OneDrive - Vallourec\\\\Desktop\\\\TEST\\\\trg\\\\excel2.xlsx']\n"
     ]
    }
   ],
   "source": [
    "# testing\n",
    "print('keep:', file_keep)\n",
    "print('del:', file_del)\n",
    "\n",
    "for fn in file_del:\n",
    "    os.remove(fn)"
   ]
  },
  {
   "cell_type": "code",
   "execution_count": null,
   "metadata": {},
   "outputs": [],
   "source": []
  }
 ]
}